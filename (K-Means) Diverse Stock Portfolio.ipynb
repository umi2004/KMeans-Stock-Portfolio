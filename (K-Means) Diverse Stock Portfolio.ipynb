{
 "cells": [
  {
   "cell_type": "markdown",
   "id": "d4f50bfe",
   "metadata": {},
   "source": [
    "## Build A Diverse Stock Portforlio with K-means"
   ]
  },
  {
   "cell_type": "code",
   "execution_count": 70,
   "id": "5f6fb0dc",
   "metadata": {},
   "outputs": [],
   "source": [
    "#import \n",
    "\n",
    "import pandas as pd\n",
    "import numpy as np\n",
    "from sklearn.cluster import KMeans\n",
    "import matplotlib.pyplot as plt\n",
    "plt.style.use('fivethirtyeight')"
   ]
  },
  {
   "cell_type": "code",
   "execution_count": 60,
   "id": "82ef3006",
   "metadata": {
    "scrolled": true
   },
   "outputs": [
    {
     "name": "stderr",
     "output_type": "stream",
     "text": [
      "[*********************100%***********************]  1 of 1 completed\n",
      "[*********************100%***********************]  1 of 1 completed\n",
      "[*********************100%***********************]  1 of 1 completed\n",
      "[*********************100%***********************]  1 of 1 completed\n",
      "[*********************100%***********************]  1 of 1 completed\n",
      "[*********************100%***********************]  1 of 1 completed\n",
      "[*********************100%***********************]  1 of 1 completed\n",
      "[*********************100%***********************]  1 of 1 completed\n",
      "[*********************100%***********************]  1 of 1 completed\n",
      "[*********************100%***********************]  1 of 1 completed\n",
      "[*********************100%***********************]  1 of 1 completed\n",
      "[*********************100%***********************]  1 of 1 completed\n",
      "[*********************100%***********************]  1 of 1 completed\n",
      "[*********************100%***********************]  1 of 1 completed\n",
      "[*********************100%***********************]  1 of 1 completed\n",
      "[*********************100%***********************]  1 of 1 completed\n",
      "[*********************100%***********************]  1 of 1 completed\n",
      "[*********************100%***********************]  1 of 1 completed\n",
      "[*********************100%***********************]  1 of 1 completed\n",
      "[*********************100%***********************]  1 of 1 completed\n",
      "[*********************100%***********************]  1 of 1 completed\n",
      "[*********************100%***********************]  1 of 1 completed\n",
      "[*********************100%***********************]  1 of 1 completed\n",
      "[*********************100%***********************]  1 of 1 completed\n",
      "[*********************100%***********************]  1 of 1 completed\n",
      "[*********************100%***********************]  1 of 1 completed\n",
      "[*********************100%***********************]  1 of 1 completed\n",
      "[*********************100%***********************]  1 of 1 completed\n",
      "[*********************100%***********************]  1 of 1 completed\n",
      "[*********************100%***********************]  1 of 1 completed\n",
      "[*********************100%***********************]  1 of 1 completed\n",
      "[*********************100%***********************]  1 of 1 completed\n",
      "[*********************100%***********************]  1 of 1 completed\n",
      "[*********************100%***********************]  1 of 1 completed\n",
      "[*********************100%***********************]  1 of 1 completed\n",
      "[*********************100%***********************]  1 of 1 completed\n",
      "[*********************100%***********************]  1 of 1 completed\n",
      "[*********************100%***********************]  1 of 1 completed\n",
      "[*********************100%***********************]  1 of 1 completed\n",
      "[*********************100%***********************]  1 of 1 completed\n",
      "[*********************100%***********************]  1 of 1 completed\n",
      "[*********************100%***********************]  1 of 1 completed\n",
      "[*********************100%***********************]  1 of 1 completed\n",
      "[*********************100%***********************]  1 of 1 completed\n",
      "[*********************100%***********************]  1 of 1 completed\n",
      "[*********************100%***********************]  1 of 1 completed\n",
      "[*********************100%***********************]  1 of 1 completed\n",
      "[*********************100%***********************]  1 of 1 completed\n",
      "[*********************100%***********************]  1 of 1 completed\n",
      "[*********************100%***********************]  1 of 1 completed\n",
      "[*********************100%***********************]  1 of 1 completed\n",
      "[*********************100%***********************]  1 of 1 completed\n",
      "Could not get exchangeTimezoneName for ticker 'CTAS' reason: 'chart'\n",
      "[*********************100%***********************]  1 of 1 completed\n",
      "\n",
      "1 Failed download:\n",
      "['CTAS']: YFTzMissingError('$%ticker%: possibly delisted; no timezone found')\n",
      "[*********************100%***********************]  1 of 1 completed\n",
      "[*********************100%***********************]  1 of 1 completed\n",
      "[*********************100%***********************]  1 of 1 completed\n",
      "[*********************100%***********************]  1 of 1 completed\n",
      "[*********************100%***********************]  1 of 1 completed\n",
      "[*********************100%***********************]  1 of 1 completed\n",
      "[*********************100%***********************]  1 of 1 completed\n",
      "[*********************100%***********************]  1 of 1 completed\n",
      "[*********************100%***********************]  1 of 1 completed\n",
      "[*********************100%***********************]  1 of 1 completed\n",
      "[*********************100%***********************]  1 of 1 completed\n",
      "[*********************100%***********************]  1 of 1 completed\n",
      "[*********************100%***********************]  1 of 1 completed\n",
      "[*********************100%***********************]  1 of 1 completed\n",
      "[*********************100%***********************]  1 of 1 completed\n",
      "[*********************100%***********************]  1 of 1 completed\n",
      "[*********************100%***********************]  1 of 1 completed\n",
      "[*********************100%***********************]  1 of 1 completed\n",
      "[*********************100%***********************]  1 of 1 completed\n",
      "[*********************100%***********************]  1 of 1 completed\n",
      "[*********************100%***********************]  1 of 1 completed\n",
      "[*********************100%***********************]  1 of 1 completed\n",
      "[*********************100%***********************]  1 of 1 completed\n",
      "[*********************100%***********************]  1 of 1 completed\n",
      "[*********************100%***********************]  1 of 1 completed\n",
      "[*********************100%***********************]  1 of 1 completed\n",
      "[*********************100%***********************]  1 of 1 completed\n",
      "[*********************100%***********************]  1 of 1 completed\n",
      "[*********************100%***********************]  1 of 1 completed\n",
      "[*********************100%***********************]  1 of 1 completed\n",
      "[*********************100%***********************]  1 of 1 completed\n",
      "[*********************100%***********************]  1 of 1 completed\n",
      "[*********************100%***********************]  1 of 1 completed\n",
      "[*********************100%***********************]  1 of 1 completed\n",
      "[*********************100%***********************]  1 of 1 completed\n",
      "[*********************100%***********************]  1 of 1 completed\n",
      "[*********************100%***********************]  1 of 1 completed\n",
      "[*********************100%***********************]  1 of 1 completed\n",
      "[*********************100%***********************]  1 of 1 completed\n",
      "[*********************100%***********************]  1 of 1 completed\n",
      "[*********************100%***********************]  1 of 1 completed\n",
      "[*********************100%***********************]  1 of 1 completed\n",
      "[*********************100%***********************]  1 of 1 completed\n",
      "[*********************100%***********************]  1 of 1 completed\n",
      "[*********************100%***********************]  1 of 1 completed\n",
      "[*********************100%***********************]  1 of 1 completed\n",
      "[*********************100%***********************]  1 of 1 completed\n",
      "[*********************100%***********************]  1 of 1 completed\n",
      "/tmp/ipykernel_510/2758248552.py:50: FutureWarning: DataFrame.fillna with 'method' is deprecated and will raise in a future version. Use obj.ffill() or obj.bfill() instead.\n",
      "  final_df.fillna(method=\"ffill\", inplace=True)\n",
      "/tmp/ipykernel_510/2758248552.py:51: FutureWarning: DataFrame.fillna with 'method' is deprecated and will raise in a future version. Use obj.ffill() or obj.bfill() instead.\n",
      "  final_df.fillna(method=\"bfill\", inplace=True)\n"
     ]
    }
   ],
   "source": [
    "import yfinance as yf\n",
    "import pandas as pd\n",
    "\n",
    "# Example list of tickers (not the full list, just placeholders)\n",
    "ticker_symbols = [\n",
    "    \"AAPL\", \"NVDA\", \"MSFT\", \"GOOG\", \"GOOGL\", \"AMZN\", \"META\", \"TSLA\", \"AVGO\", \"COST\",\n",
    "    \"NFLX\", \"ASML\", \"TMUS\", \"CSCO\", \"PEP\", \"AZN\", \"LIN\", \"AMD\", \"ADBE\", \"ISRG\",\n",
    "    \"INTU\", \"PLTR\", \"QCOM\", \"TXN\", \"BKNG\", \"HON\", \"CMCSA\", \"AMGN\", \"AMAT\", \"ARM\",\n",
    "    \"PDD\", \"PANW\", \"ADP\", \"GILD\", \"APP\", \"ADI\", \"VRTX\", \"SBUX\", \"MRVL\", \"MU\",\n",
    "    \"LRCX\", \"MELI\", \"CRWD\", \"PYPL\", \"INTC\", \"KLAC\", \"CDNS\", \"ABNB\", \"MDLZ\", \"MAR\",\n",
    "    \"REGN\", \"SNPS\", \"CTAS\", \"FTNT\", \"CEG\", \"DASH\", \"WDAY\", \"ORLY\", \"MSTR\", \"TEAM\",\n",
    "    \"ADSK\", \"CSX\", \"TTD\", \"CPRT\", \"ROP\", \"CHTR\", \"PCAR\", \"NXPI\", \"MNST\", \"PAYX\",\n",
    "    \"ROST\", \"AEP\", \"DDOG\", \"FANG\", \"LULU\", \"AXON\", \"KDP\", \"FAST\", \"BKR\", \"VRSK\",\n",
    "    \"XEL\", \"EA\", \"CTSH\", \"ODFL\", \"EXC\", \"KHC\", \"GEHC\", \"CCEP\", \"IDXX\", \"TTWO\",\n",
    "    \"MCHP\", \"DXCM\", \"ANSS\", \"CSGP\", \"ZS\", \"ON\", \"WBD\", \"GFS\", \"CDW\", \"BIIB\", \"MDB\"\n",
    "]\n",
    "\n",
    "start_date = \"2015-01-01\"\n",
    "end_date = \"2024-12-31\"\n",
    "start_date = \"2015-01-01\"\n",
    "end_date = \"2024-12-31\"\n",
    "\n",
    "# Initialize an empty DataFrame\n",
    "final_df = pd.DataFrame()\n",
    "\n",
    "for ticker in ticker_symbols:\n",
    "    # Download data for each ticker\n",
    "    df = yf.download(ticker, start=start_date, end=end_date)\n",
    "\n",
    "    # Keep only 'Close' price\n",
    "    df = df[['Close']]\n",
    "\n",
    "    # Rename the 'Close' column to the ticker symbol\n",
    "    df.rename(columns={\"Close\": ticker}, inplace=True)\n",
    "\n",
    "    # Merge with the final DataFrame\n",
    "    if final_df.empty:\n",
    "        final_df = df\n",
    "    else:\n",
    "        final_df = final_df.join(df, how=\"outer\")\n",
    "\n",
    "# Ensure unique column headers by removing duplicate levels\n",
    "if isinstance(final_df.columns, pd.MultiIndex):\n",
    "    final_df.columns = final_df.columns.get_level_values(0)\n",
    "\n",
    "# Sort by Date to ensure chronological order\n",
    "final_df.sort_index(inplace=True)\n",
    "\n",
    "# Optionally fill any missing values (e.g., due to different trading calendars)\n",
    "final_df.fillna(method=\"ffill\", inplace=True)\n",
    "final_df.fillna(method=\"bfill\", inplace=True)\n",
    "\n",
    "final_df.to_csv(\"final_stock_data.csv\", index=False)"
   ]
  },
  {
   "cell_type": "markdown",
   "id": "31104306",
   "metadata": {},
   "source": [
    "### Calculate Annual mean returns and variance"
   ]
  },
  {
   "cell_type": "code",
   "execution_count": 63,
   "id": "a04da06b",
   "metadata": {},
   "outputs": [
    {
     "name": "stderr",
     "output_type": "stream",
     "text": [
      "/tmp/ipykernel_510/3169485016.py:1: FutureWarning: The default fill_method='pad' in DataFrame.pct_change is deprecated and will be removed in a future version. Either fill in any non-leading NA values prior to calling pct_change or specify 'fill_method=None' to not fill NA values.\n",
      "  daily_returns = final_df.pct_change()\n"
     ]
    }
   ],
   "source": [
    "daily_returns = final_df.pct_change()\n",
    "annual_mean_returns = daily_returns.mean()*252\n",
    "annual_return_variance = daily_returns.var()*252"
   ]
  },
  {
   "cell_type": "code",
   "execution_count": 84,
   "id": "da92cd32",
   "metadata": {},
   "outputs": [
    {
     "data": {
      "text/html": [
       "<div>\n",
       "<style scoped>\n",
       "    .dataframe tbody tr th:only-of-type {\n",
       "        vertical-align: middle;\n",
       "    }\n",
       "\n",
       "    .dataframe tbody tr th {\n",
       "        vertical-align: top;\n",
       "    }\n",
       "\n",
       "    .dataframe thead th {\n",
       "        text-align: right;\n",
       "    }\n",
       "</style>\n",
       "<table border=\"1\" class=\"dataframe\">\n",
       "  <thead>\n",
       "    <tr style=\"text-align: right;\">\n",
       "      <th></th>\n",
       "      <th>Stock_Symbols</th>\n",
       "      <th>Vairances</th>\n",
       "      <th>Returns</th>\n",
       "    </tr>\n",
       "  </thead>\n",
       "  <tbody>\n",
       "    <tr>\n",
       "      <th>0</th>\n",
       "      <td>AAPL</td>\n",
       "      <td>0.081033</td>\n",
       "      <td>0.274956</td>\n",
       "    </tr>\n",
       "    <tr>\n",
       "      <th>1</th>\n",
       "      <td>NVDA</td>\n",
       "      <td>0.236291</td>\n",
       "      <td>0.683911</td>\n",
       "    </tr>\n",
       "    <tr>\n",
       "      <th>2</th>\n",
       "      <td>MSFT</td>\n",
       "      <td>0.073677</td>\n",
       "      <td>0.273182</td>\n",
       "    </tr>\n",
       "    <tr>\n",
       "      <th>3</th>\n",
       "      <td>GOOG</td>\n",
       "      <td>0.081252</td>\n",
       "      <td>0.241068</td>\n",
       "    </tr>\n",
       "    <tr>\n",
       "      <th>4</th>\n",
       "      <td>GOOGL</td>\n",
       "      <td>0.081075</td>\n",
       "      <td>0.239061</td>\n",
       "    </tr>\n",
       "    <tr>\n",
       "      <th>...</th>\n",
       "      <td>...</td>\n",
       "      <td>...</td>\n",
       "      <td>...</td>\n",
       "    </tr>\n",
       "    <tr>\n",
       "      <th>96</th>\n",
       "      <td>WBD</td>\n",
       "      <td>0.198736</td>\n",
       "      <td>-0.018487</td>\n",
       "    </tr>\n",
       "    <tr>\n",
       "      <th>97</th>\n",
       "      <td>GFS</td>\n",
       "      <td>0.078455</td>\n",
       "      <td>0.031716</td>\n",
       "    </tr>\n",
       "    <tr>\n",
       "      <th>98</th>\n",
       "      <td>CDW</td>\n",
       "      <td>0.082061</td>\n",
       "      <td>0.212806</td>\n",
       "    </tr>\n",
       "    <tr>\n",
       "      <th>99</th>\n",
       "      <td>BIIB</td>\n",
       "      <td>0.177916</td>\n",
       "      <td>0.002826</td>\n",
       "    </tr>\n",
       "    <tr>\n",
       "      <th>100</th>\n",
       "      <td>MDB</td>\n",
       "      <td>0.302088</td>\n",
       "      <td>0.348779</td>\n",
       "    </tr>\n",
       "  </tbody>\n",
       "</table>\n",
       "<p>101 rows × 3 columns</p>\n",
       "</div>"
      ],
      "text/plain": [
       "    Stock_Symbols  Vairances   Returns\n",
       "0            AAPL   0.081033  0.274956\n",
       "1            NVDA   0.236291  0.683911\n",
       "2            MSFT   0.073677  0.273182\n",
       "3            GOOG   0.081252  0.241068\n",
       "4           GOOGL   0.081075  0.239061\n",
       "..            ...        ...       ...\n",
       "96            WBD   0.198736 -0.018487\n",
       "97            GFS   0.078455  0.031716\n",
       "98            CDW   0.082061  0.212806\n",
       "99           BIIB   0.177916  0.002826\n",
       "100           MDB   0.302088  0.348779\n",
       "\n",
       "[101 rows x 3 columns]"
      ]
     },
     "execution_count": 84,
     "metadata": {},
     "output_type": "execute_result"
    }
   ],
   "source": [
    "df2 = pd.DataFrame(final_df.columns, columns=['Price'])\n",
    "df2['Vairances'] = annual_return_variance.values\n",
    "df2['Returns'] = annual_mean_returns.values\n",
    "df2 = df2.rename(columns={'Price': 'Stock_Symbols'})\n",
    "df2"
   ]
  },
  {
   "cell_type": "markdown",
   "id": "e5bc6deb",
   "metadata": {},
   "source": [
    "### Elbow method\n",
    "\n",
    "We are going to use the Elbow method to determine the number of clusters to use to group the stocks."
   ]
  },
  {
   "cell_type": "code",
   "execution_count": 96,
   "id": "cbbba5bd",
   "metadata": {},
   "outputs": [
    {
     "name": "stderr",
     "output_type": "stream",
     "text": [
      "/opt/conda/lib/python3.11/site-packages/sklearn/cluster/_kmeans.py:1416: FutureWarning: The default value of `n_init` will change from 10 to 'auto' in 1.4. Set the value of `n_init` explicitly to suppress the warning\n",
      "  super()._check_params_vs_input(X, default_n_init=10)\n",
      "/opt/conda/lib/python3.11/site-packages/sklearn/cluster/_kmeans.py:1416: FutureWarning: The default value of `n_init` will change from 10 to 'auto' in 1.4. Set the value of `n_init` explicitly to suppress the warning\n",
      "  super()._check_params_vs_input(X, default_n_init=10)\n",
      "/opt/conda/lib/python3.11/site-packages/sklearn/cluster/_kmeans.py:1416: FutureWarning: The default value of `n_init` will change from 10 to 'auto' in 1.4. Set the value of `n_init` explicitly to suppress the warning\n",
      "  super()._check_params_vs_input(X, default_n_init=10)\n",
      "/opt/conda/lib/python3.11/site-packages/sklearn/cluster/_kmeans.py:1416: FutureWarning: The default value of `n_init` will change from 10 to 'auto' in 1.4. Set the value of `n_init` explicitly to suppress the warning\n",
      "  super()._check_params_vs_input(X, default_n_init=10)\n",
      "/opt/conda/lib/python3.11/site-packages/sklearn/cluster/_kmeans.py:1416: FutureWarning: The default value of `n_init` will change from 10 to 'auto' in 1.4. Set the value of `n_init` explicitly to suppress the warning\n",
      "  super()._check_params_vs_input(X, default_n_init=10)\n",
      "/opt/conda/lib/python3.11/site-packages/sklearn/cluster/_kmeans.py:1416: FutureWarning: The default value of `n_init` will change from 10 to 'auto' in 1.4. Set the value of `n_init` explicitly to suppress the warning\n",
      "  super()._check_params_vs_input(X, default_n_init=10)\n",
      "/opt/conda/lib/python3.11/site-packages/sklearn/cluster/_kmeans.py:1416: FutureWarning: The default value of `n_init` will change from 10 to 'auto' in 1.4. Set the value of `n_init` explicitly to suppress the warning\n",
      "  super()._check_params_vs_input(X, default_n_init=10)\n",
      "/opt/conda/lib/python3.11/site-packages/sklearn/cluster/_kmeans.py:1416: FutureWarning: The default value of `n_init` will change from 10 to 'auto' in 1.4. Set the value of `n_init` explicitly to suppress the warning\n",
      "  super()._check_params_vs_input(X, default_n_init=10)\n",
      "/opt/conda/lib/python3.11/site-packages/sklearn/cluster/_kmeans.py:1416: FutureWarning: The default value of `n_init` will change from 10 to 'auto' in 1.4. Set the value of `n_init` explicitly to suppress the warning\n",
      "  super()._check_params_vs_input(X, default_n_init=10)\n",
      "/opt/conda/lib/python3.11/site-packages/sklearn/cluster/_kmeans.py:1416: FutureWarning: The default value of `n_init` will change from 10 to 'auto' in 1.4. Set the value of `n_init` explicitly to suppress the warning\n",
      "  super()._check_params_vs_input(X, default_n_init=10)\n",
      "/opt/conda/lib/python3.11/site-packages/sklearn/cluster/_kmeans.py:1416: FutureWarning: The default value of `n_init` will change from 10 to 'auto' in 1.4. Set the value of `n_init` explicitly to suppress the warning\n",
      "  super()._check_params_vs_input(X, default_n_init=10)\n",
      "/opt/conda/lib/python3.11/site-packages/sklearn/cluster/_kmeans.py:1416: FutureWarning: The default value of `n_init` will change from 10 to 'auto' in 1.4. Set the value of `n_init` explicitly to suppress the warning\n",
      "  super()._check_params_vs_input(X, default_n_init=10)\n",
      "/opt/conda/lib/python3.11/site-packages/sklearn/cluster/_kmeans.py:1416: FutureWarning: The default value of `n_init` will change from 10 to 'auto' in 1.4. Set the value of `n_init` explicitly to suppress the warning\n",
      "  super()._check_params_vs_input(X, default_n_init=10)\n",
      "/opt/conda/lib/python3.11/site-packages/sklearn/cluster/_kmeans.py:1416: FutureWarning: The default value of `n_init` will change from 10 to 'auto' in 1.4. Set the value of `n_init` explicitly to suppress the warning\n",
      "  super()._check_params_vs_input(X, default_n_init=10)\n"
     ]
    },
    {
     "data": {
      "text/plain": [
       "Text(0, 0.5, 'Inertia (SSE)')"
      ]
     },
     "execution_count": 96,
     "metadata": {},
     "output_type": "execute_result"
    },
    {
     "data": {
      "image/png": "[encoded data removed]",
      "text/plain": [
       "<Figure size 640x480 with 1 Axes>"
      ]
     },
     "metadata": {},
     "output_type": "display_data"
    }
   ],
   "source": [
    "X = df2[['Returns', 'Vairances']].values\n",
    "nan = np.nanmean(X)\n",
    "\n",
    "X[np.isnan(X)] = nan\n",
    "\n",
    "inertia_list = []\n",
    "\n",
    "for k in range(2, 16):\n",
    "    #train \n",
    "    kmeans = KMeans(n_clusters = k)\n",
    "    kmeans.fit(X)\n",
    "    inertia_list.append(kmeans.inertia_) #SSE \n",
    "    \n",
    "#plot\n",
    "plt.plot(range(2,16), inertia_list)\n",
    "plt.title(\"Elbow Curve\")\n",
    "plt.xlabel('Number of Clusters')\n",
    "plt.ylabel('Inertia (SSE)')"
   ]
  },
  {
   "cell_type": "code",
   "execution_count": 97,
   "id": "6d811acc",
   "metadata": {},
   "outputs": [
    {
     "name": "stderr",
     "output_type": "stream",
     "text": [
      "/opt/conda/lib/python3.11/site-packages/sklearn/cluster/_kmeans.py:1416: FutureWarning: The default value of `n_init` will change from 10 to 'auto' in 1.4. Set the value of `n_init` explicitly to suppress the warning\n",
      "  super()._check_params_vs_input(X, default_n_init=10)\n"
     ]
    },
    {
     "data": {
      "text/plain": [
       "array([0, 3, 0, 0, 0, 1, 1, 3, 1, 0, 1, 0, 0, 2, 2, 2, 0, 3, 0, 0, 0, 1,\n",
       "       0, 0, 0, 2, 2, 2, 1, 2, 1, 1, 0, 2, 1, 0, 0, 2, 1, 1, 1, 1, 1, 0,\n",
       "       2, 1, 1, 2, 2, 0, 2, 0, 0, 1, 0, 2, 0, 0, 3, 1, 0, 0, 3, 0, 2, 2,\n",
       "       0, 0, 2, 0, 0, 2, 1, 1, 1, 1, 2, 0, 2, 0, 2, 0, 2, 0, 2, 2, 2, 2,\n",
       "       0, 0, 0, 1, 0, 0, 1, 1, 2, 2, 0, 2, 1], dtype=int32)"
      ]
     },
     "execution_count": 97,
     "metadata": {},
     "output_type": "execute_result"
    }
   ],
   "source": [
    "kmeans = KMeans(n_clusters = 4).fit(X)\n",
    "labels = kmeans.labels_\n",
    "labels"
   ]
  },
  {
   "cell_type": "code",
   "execution_count": 101,
   "id": "b6230a1a",
   "metadata": {},
   "outputs": [
    {
     "data": {
      "image/png": "[encoded data removed]",
      "text/plain": [
       "<Figure size 640x480 with 1 Axes>"
      ]
     },
     "metadata": {},
     "output_type": "display_data"
    }
   ],
   "source": [
    "df2['Cluster_Labels'] = labels\n",
    "\n",
    "#plot\n",
    "plt.scatter(X[:,0], X[:,1], c = labels, cmap = 'rainbow')\n",
    "plt.title(\"K-Means Plot\")\n",
    "plt.xlabel(\"Returns\")\n",
    "plt.ylabel(\"Variance\")\n",
    "plt.show()"
   ]
  },
  {
   "cell_type": "markdown",
   "id": "90fd3f1d",
   "metadata": {},
   "source": [
    "### Build a simple diversed portfolio"
   ]
  },
  {
   "cell_type": "code",
   "execution_count": 102,
   "id": "d257c5fc",
   "metadata": {},
   "outputs": [],
   "source": [
    "def portfolio():\n",
    "    for i in range(0,4): \n",
    "        symbol = df2[df2['Cluster_Labels'] == i].head(1)\n",
    "        print(symbol[['Stock_Symbols','Cluster_Labels']])"
   ]
  },
  {
   "cell_type": "code",
   "execution_count": 103,
   "id": "530aaef1",
   "metadata": {},
   "outputs": [
    {
     "name": "stdout",
     "output_type": "stream",
     "text": [
      "  Stock_Symbols  Cluster_Labels\n",
      "0          AAPL               0\n",
      "  Stock_Symbols  Cluster_Labels\n",
      "5          AMZN               1\n",
      "   Stock_Symbols  Cluster_Labels\n",
      "13          CSCO               2\n",
      "  Stock_Symbols  Cluster_Labels\n",
      "1          NVDA               3\n"
     ]
    }
   ],
   "source": [
    "portfolio()"
   ]
  },
  {
   "cell_type": "code",
   "execution_count": null,
   "id": "d5ba5280",
   "metadata": {},
   "outputs": [],
   "source": []
  }
 ],
 "metadata": {
  "kernelspec": {
   "display_name": "Python 3 (ipykernel)",
   "language": "python",
   "name": "python3"
  },
  "language_info": {
   "codemirror_mode": {
    "name": "ipython",
    "version": 3
   },
   "file_extension": ".py",
   "mimetype": "text/x-python",
   "name": "python",
   "nbconvert_exporter": "python",
   "pygments_lexer": "ipython3",
   "version": "3.11.6"
  }
 },
 "nbformat": 4,
 "nbformat_minor": 5
}
